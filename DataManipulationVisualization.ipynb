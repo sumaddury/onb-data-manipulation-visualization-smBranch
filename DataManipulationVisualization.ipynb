{
  "cells": [
    {
      "cell_type": "markdown",
      "metadata": {
        "id": "wrCHVjQe9Ni_"
      },
      "source": [
        "### Welcome to Google Colab!\n",
        "\n",
        "**Instructions**: Make a copy of this notebook by clicking **File -> Save a copy in Drive**\n",
        "\n",
        "To run a cell, hit **shift + enter** or click the run button at the top left of each cell"
      ]
    },
    {
      "cell_type": "markdown",
      "metadata": {
        "id": "m1RClbfy-TE3"
      },
      "source": [
        "### Data Manipulation with Pandas\n",
        "\n",
        "**DataFrames** are the primary data structure in pandas. You can think of a DataFrame as a table with rows and columns, or as multiple lists concatenated together (where each list is a column).\n",
        "\n",
        "Pandas documentation: https://pandas.pydata.org/docs/user_guide/index.html#user-guide"
      ]
    },
    {
      "cell_type": "code",
      "execution_count": 2,
      "metadata": {
        "id": "og4slKd6-PUS"
      },
      "outputs": [
        {
          "data": {
            "text/html": [
              "<div>\n",
              "<style scoped>\n",
              "    .dataframe tbody tr th:only-of-type {\n",
              "        vertical-align: middle;\n",
              "    }\n",
              "\n",
              "    .dataframe tbody tr th {\n",
              "        vertical-align: top;\n",
              "    }\n",
              "\n",
              "    .dataframe thead th {\n",
              "        text-align: right;\n",
              "    }\n",
              "</style>\n",
              "<table border=\"1\" class=\"dataframe\">\n",
              "  <thead>\n",
              "    <tr style=\"text-align: right;\">\n",
              "      <th></th>\n",
              "      <th>Name</th>\n",
              "      <th>Age</th>\n",
              "      <th>FavoriteColor</th>\n",
              "    </tr>\n",
              "  </thead>\n",
              "  <tbody>\n",
              "    <tr>\n",
              "      <th>0</th>\n",
              "      <td>Alice</td>\n",
              "      <td>20</td>\n",
              "      <td>Blue</td>\n",
              "    </tr>\n",
              "    <tr>\n",
              "      <th>1</th>\n",
              "      <td>Bob</td>\n",
              "      <td>23</td>\n",
              "      <td>Red</td>\n",
              "    </tr>\n",
              "    <tr>\n",
              "      <th>2</th>\n",
              "      <td>Chloe</td>\n",
              "      <td>21</td>\n",
              "      <td>Green</td>\n",
              "    </tr>\n",
              "  </tbody>\n",
              "</table>\n",
              "</div>"
            ],
            "text/plain": [
              "    Name  Age FavoriteColor\n",
              "0  Alice   20          Blue\n",
              "1    Bob   23           Red\n",
              "2  Chloe   21         Green"
            ]
          },
          "execution_count": 2,
          "metadata": {},
          "output_type": "execute_result"
        }
      ],
      "source": [
        "# Imports\n",
        "import numpy as np\n",
        "import pandas as pd\n",
        "\n",
        "np.random.seed(1)\n",
        "\n",
        "# Create a DataFrame\n",
        "df = pd.DataFrame({\n",
        "    \"Name\":[\"Alice\", \"Bob\", \"Chloe\"],\n",
        "    \"Age\":[20, 23, 21],\n",
        "    \"FavoriteColor\":[\"Blue\", \"Red\", \"Green\"]\n",
        "})\n",
        "\n",
        "# When you run a cell, the last expression's value is automatically outputted\n",
        "# This is why df is shown when this cell is run\n",
        "# To show a DataFrame, you can use display(df)\n",
        "df"
      ]
    },
    {
      "cell_type": "code",
      "execution_count": 3,
      "metadata": {
        "id": "KkyQuyCC_iOV"
      },
      "outputs": [
        {
          "data": {
            "text/html": [
              "<div>\n",
              "<style scoped>\n",
              "    .dataframe tbody tr th:only-of-type {\n",
              "        vertical-align: middle;\n",
              "    }\n",
              "\n",
              "    .dataframe tbody tr th {\n",
              "        vertical-align: top;\n",
              "    }\n",
              "\n",
              "    .dataframe thead th {\n",
              "        text-align: right;\n",
              "    }\n",
              "</style>\n",
              "<table border=\"1\" class=\"dataframe\">\n",
              "  <thead>\n",
              "    <tr style=\"text-align: right;\">\n",
              "      <th></th>\n",
              "      <th>Name</th>\n",
              "      <th>Age</th>\n",
              "      <th>FavoriteColor</th>\n",
              "    </tr>\n",
              "  </thead>\n",
              "  <tbody>\n",
              "    <tr>\n",
              "      <th>0</th>\n",
              "      <td>Alice</td>\n",
              "      <td>20</td>\n",
              "      <td>Blue</td>\n",
              "    </tr>\n",
              "    <tr>\n",
              "      <th>1</th>\n",
              "      <td>Bob</td>\n",
              "      <td>23</td>\n",
              "      <td>Red</td>\n",
              "    </tr>\n",
              "    <tr>\n",
              "      <th>2</th>\n",
              "      <td>Chloe</td>\n",
              "      <td>21</td>\n",
              "      <td>Green</td>\n",
              "    </tr>\n",
              "  </tbody>\n",
              "</table>\n",
              "</div>"
            ],
            "text/plain": [
              "    Name  Age FavoriteColor\n",
              "0  Alice   20          Blue\n",
              "1    Bob   23           Red\n",
              "2  Chloe   21         Green"
            ]
          },
          "metadata": {},
          "output_type": "display_data"
        }
      ],
      "source": [
        "# TODO 1: Output the dataframe using display\n",
        "display(df)"
      ]
    },
    {
      "cell_type": "markdown",
      "metadata": {
        "id": "ZNTaxzaHAVpS"
      },
      "source": [
        "### Filtering By Column\n",
        "\n",
        "To view a specific column in a dataframe, you can do:\n",
        "\n",
        "`df[\"colName\"]` or `df.colName`\n",
        "\n",
        "To view multiple columns:\n",
        "\n",
        "`df[[\"col1\", \"col2\"]]` (note the double brackets as this is a list of column names)"
      ]
    },
    {
      "cell_type": "code",
      "execution_count": 10,
      "metadata": {
        "id": "yiJT4gohAjAn"
      },
      "outputs": [
        {
          "name": "stdout",
          "output_type": "stream",
          "text": [
            "0    Alice\n",
            "1      Bob\n",
            "2    Chloe\n",
            "Name: Name, dtype: object\n"
          ]
        },
        {
          "data": {
            "text/html": [
              "<div>\n",
              "<style scoped>\n",
              "    .dataframe tbody tr th:only-of-type {\n",
              "        vertical-align: middle;\n",
              "    }\n",
              "\n",
              "    .dataframe tbody tr th {\n",
              "        vertical-align: top;\n",
              "    }\n",
              "\n",
              "    .dataframe thead th {\n",
              "        text-align: right;\n",
              "    }\n",
              "</style>\n",
              "<table border=\"1\" class=\"dataframe\">\n",
              "  <thead>\n",
              "    <tr style=\"text-align: right;\">\n",
              "      <th></th>\n",
              "      <th>Name</th>\n",
              "      <th>FavoriteColor</th>\n",
              "    </tr>\n",
              "  </thead>\n",
              "  <tbody>\n",
              "    <tr>\n",
              "      <th>0</th>\n",
              "      <td>Alice</td>\n",
              "      <td>Blue</td>\n",
              "    </tr>\n",
              "    <tr>\n",
              "      <th>1</th>\n",
              "      <td>Bob</td>\n",
              "      <td>Red</td>\n",
              "    </tr>\n",
              "    <tr>\n",
              "      <th>2</th>\n",
              "      <td>Chloe</td>\n",
              "      <td>Green</td>\n",
              "    </tr>\n",
              "  </tbody>\n",
              "</table>\n",
              "</div>"
            ],
            "text/plain": [
              "    Name FavoriteColor\n",
              "0  Alice          Blue\n",
              "1    Bob           Red\n",
              "2  Chloe         Green"
            ]
          },
          "execution_count": 10,
          "metadata": {},
          "output_type": "execute_result"
        }
      ],
      "source": [
        "# TODO 2a: Select and display only the \"Name\" column from the dataframe\n",
        "\n",
        "print(df[\"Name\"])\n",
        "# TODO 2b: Select and display only the \"Name\" and \"FavoriteColor\" columns from the dataframe\n",
        "df[[\"Name\", \"FavoriteColor\"]]"
      ]
    },
    {
      "cell_type": "markdown",
      "metadata": {
        "id": "HaAMb0puB5oQ"
      },
      "source": [
        "### Now For A More Complex Dataset!\n",
        "\n",
        "The dataset includes information on different penguin species."
      ]
    },
    {
      "cell_type": "code",
      "execution_count": 9,
      "metadata": {
        "id": "UXdUBP7aB8ag"
      },
      "outputs": [
        {
          "data": {
            "text/html": [
              "<div>\n",
              "<style scoped>\n",
              "    .dataframe tbody tr th:only-of-type {\n",
              "        vertical-align: middle;\n",
              "    }\n",
              "\n",
              "    .dataframe tbody tr th {\n",
              "        vertical-align: top;\n",
              "    }\n",
              "\n",
              "    .dataframe thead th {\n",
              "        text-align: right;\n",
              "    }\n",
              "</style>\n",
              "<table border=\"1\" class=\"dataframe\">\n",
              "  <thead>\n",
              "    <tr style=\"text-align: right;\">\n",
              "      <th></th>\n",
              "      <th>species</th>\n",
              "      <th>island</th>\n",
              "      <th>bill_length_mm</th>\n",
              "      <th>bill_depth_mm</th>\n",
              "      <th>flipper_length_mm</th>\n",
              "      <th>body_mass_g</th>\n",
              "      <th>sex</th>\n",
              "    </tr>\n",
              "  </thead>\n",
              "  <tbody>\n",
              "    <tr>\n",
              "      <th>0</th>\n",
              "      <td>Adelie</td>\n",
              "      <td>Torgersen</td>\n",
              "      <td>39.1</td>\n",
              "      <td>18.7</td>\n",
              "      <td>181.0</td>\n",
              "      <td>3750.0</td>\n",
              "      <td>Male</td>\n",
              "    </tr>\n",
              "    <tr>\n",
              "      <th>1</th>\n",
              "      <td>Adelie</td>\n",
              "      <td>Torgersen</td>\n",
              "      <td>39.5</td>\n",
              "      <td>17.4</td>\n",
              "      <td>186.0</td>\n",
              "      <td>3800.0</td>\n",
              "      <td>Female</td>\n",
              "    </tr>\n",
              "    <tr>\n",
              "      <th>2</th>\n",
              "      <td>Adelie</td>\n",
              "      <td>Torgersen</td>\n",
              "      <td>40.3</td>\n",
              "      <td>18.0</td>\n",
              "      <td>195.0</td>\n",
              "      <td>3250.0</td>\n",
              "      <td>Female</td>\n",
              "    </tr>\n",
              "    <tr>\n",
              "      <th>3</th>\n",
              "      <td>Adelie</td>\n",
              "      <td>Torgersen</td>\n",
              "      <td>NaN</td>\n",
              "      <td>NaN</td>\n",
              "      <td>NaN</td>\n",
              "      <td>NaN</td>\n",
              "      <td>NaN</td>\n",
              "    </tr>\n",
              "    <tr>\n",
              "      <th>4</th>\n",
              "      <td>Adelie</td>\n",
              "      <td>Torgersen</td>\n",
              "      <td>36.7</td>\n",
              "      <td>19.3</td>\n",
              "      <td>193.0</td>\n",
              "      <td>3450.0</td>\n",
              "      <td>Female</td>\n",
              "    </tr>\n",
              "  </tbody>\n",
              "</table>\n",
              "</div>"
            ],
            "text/plain": [
              "  species     island  bill_length_mm  bill_depth_mm  flipper_length_mm  \\\n",
              "0  Adelie  Torgersen            39.1           18.7              181.0   \n",
              "1  Adelie  Torgersen            39.5           17.4              186.0   \n",
              "2  Adelie  Torgersen            40.3           18.0              195.0   \n",
              "3  Adelie  Torgersen             NaN            NaN                NaN   \n",
              "4  Adelie  Torgersen            36.7           19.3              193.0   \n",
              "\n",
              "   body_mass_g     sex  \n",
              "0       3750.0    Male  \n",
              "1       3800.0  Female  \n",
              "2       3250.0  Female  \n",
              "3          NaN     NaN  \n",
              "4       3450.0  Female  "
            ]
          },
          "metadata": {},
          "output_type": "display_data"
        }
      ],
      "source": [
        "import seaborn as sns\n",
        "\n",
        "# Load the Penguins dataset\n",
        "penguins_df = sns.load_dataset(\"penguins\")\n",
        "\n",
        "# Display the first 5 rows\n",
        "display(penguins_df.head(5))"
      ]
    },
    {
      "cell_type": "markdown",
      "metadata": {
        "id": "s44ZnEqh62Tp"
      },
      "source": [
        "### Some Useful Commands\n",
        "\n",
        "Pandas has many commands which can help you get a better understanding of a DataFrame. Try out these commands in the cell below and figure out what they do! Make sure you run them on the penguins dataframe (penguins_df).\n",
        "\n",
        "`df.shape`\n",
        "\n",
        "`df.columns`\n",
        "\n",
        "`df.describe()`\n",
        "\n",
        "`df.corr()`\n",
        "\n",
        "`df[\"col1\"].unique()`"
      ]
    },
    {
      "cell_type": "code",
      "execution_count": null,
      "metadata": {
        "id": "Wx6atTuU7KGV"
      },
      "outputs": [
        {
          "name": "stdout",
          "output_type": "stream",
          "text": [
            "(344, 7)\n",
            "Index(['species', 'island', 'bill_length_mm', 'bill_depth_mm',\n",
            "       'flipper_length_mm', 'body_mass_g', 'sex'],\n",
            "      dtype='object')\n",
            "       bill_length_mm  bill_depth_mm  flipper_length_mm  body_mass_g\n",
            "count      342.000000     342.000000         342.000000   342.000000\n",
            "mean        43.921930      17.151170         200.915205  4201.754386\n",
            "std          5.459584       1.974793          14.061714   801.954536\n",
            "min         32.100000      13.100000         172.000000  2700.000000\n",
            "25%         39.225000      15.600000         190.000000  3550.000000\n",
            "50%         44.450000      17.300000         197.000000  4050.000000\n",
            "75%         48.500000      18.700000         213.000000  4750.000000\n",
            "max         59.600000      21.500000         231.000000  6300.000000\n",
            "                   bill_length_mm  bill_depth_mm  flipper_length_mm  \\\n",
            "bill_length_mm           1.000000      -0.235053           0.656181   \n",
            "bill_depth_mm           -0.235053       1.000000          -0.583851   \n",
            "flipper_length_mm        0.656181      -0.583851           1.000000   \n",
            "body_mass_g              0.595110      -0.471916           0.871202   \n",
            "\n",
            "                   body_mass_g  \n",
            "bill_length_mm        0.595110  \n",
            "bill_depth_mm        -0.471916  \n",
            "flipper_length_mm     0.871202  \n",
            "body_mass_g           1.000000  \n",
            "['Adelie' 'Chinstrap' 'Gentoo']\n"
          ]
        },
        {
          "data": {
            "text/plain": [
              "'\\nHow many rows are in the penguins DataFrame?\\nWhat is the mean \"bill_length_mm\"?\\nWhat is the minimum \"flipper_length_mm\"?\\nWhat are the unique values in the \"species\" column?\\nWhat are the unique values in the \"island\" column?\\n'"
            ]
          },
          "execution_count": 29,
          "metadata": {},
          "output_type": "execute_result"
        }
      ],
      "source": [
        "# TODO 3: Try out the above commands and use them to answer these questions:\n",
        "print(penguins_df.shape)\n",
        "\n",
        "print(penguins_df.columns)\n",
        "\n",
        "print(penguins_df.describe())\n",
        "\n",
        "print((penguins_df.drop(columns=[\"species\", \"sex\", \"island\"])).corr())\n",
        "\n",
        "print(penguins_df[\"species\"].unique())\n",
        "\n",
        "\n",
        "\"\"\"\n",
        "How many rows are in the penguins DataFrame?\n",
        "What is the mean \"bill_length_mm\"?\n",
        "What is the minimum \"flipper_length_mm\"?\n",
        "What are the unique values in the \"species\" column?\n",
        "What are the unique values in the \"island\" column?\n",
        "\"\"\"\n"
      ]
    },
    {
      "cell_type": "markdown",
      "metadata": {
        "id": "Q-423qCyLqHC"
      },
      "source": [
        "### Filtering By Row"
      ]
    },
    {
      "cell_type": "code",
      "execution_count": 15,
      "metadata": {
        "id": "njM9QteDL5KL"
      },
      "outputs": [
        {
          "data": {
            "text/html": [
              "<div>\n",
              "<style scoped>\n",
              "    .dataframe tbody tr th:only-of-type {\n",
              "        vertical-align: middle;\n",
              "    }\n",
              "\n",
              "    .dataframe tbody tr th {\n",
              "        vertical-align: top;\n",
              "    }\n",
              "\n",
              "    .dataframe thead th {\n",
              "        text-align: right;\n",
              "    }\n",
              "</style>\n",
              "<table border=\"1\" class=\"dataframe\">\n",
              "  <thead>\n",
              "    <tr style=\"text-align: right;\">\n",
              "      <th></th>\n",
              "      <th>species</th>\n",
              "      <th>island</th>\n",
              "      <th>bill_length_mm</th>\n",
              "      <th>bill_depth_mm</th>\n",
              "      <th>flipper_length_mm</th>\n",
              "      <th>body_mass_g</th>\n",
              "      <th>sex</th>\n",
              "    </tr>\n",
              "  </thead>\n",
              "  <tbody>\n",
              "    <tr>\n",
              "      <th>0</th>\n",
              "      <td>Adelie</td>\n",
              "      <td>Torgersen</td>\n",
              "      <td>39.1</td>\n",
              "      <td>18.7</td>\n",
              "      <td>181.0</td>\n",
              "      <td>3750.0</td>\n",
              "      <td>Male</td>\n",
              "    </tr>\n",
              "    <tr>\n",
              "      <th>1</th>\n",
              "      <td>Adelie</td>\n",
              "      <td>Torgersen</td>\n",
              "      <td>39.5</td>\n",
              "      <td>17.4</td>\n",
              "      <td>186.0</td>\n",
              "      <td>3800.0</td>\n",
              "      <td>Female</td>\n",
              "    </tr>\n",
              "    <tr>\n",
              "      <th>2</th>\n",
              "      <td>Adelie</td>\n",
              "      <td>Torgersen</td>\n",
              "      <td>40.3</td>\n",
              "      <td>18.0</td>\n",
              "      <td>195.0</td>\n",
              "      <td>3250.0</td>\n",
              "      <td>Female</td>\n",
              "    </tr>\n",
              "    <tr>\n",
              "      <th>3</th>\n",
              "      <td>Adelie</td>\n",
              "      <td>Torgersen</td>\n",
              "      <td>NaN</td>\n",
              "      <td>NaN</td>\n",
              "      <td>NaN</td>\n",
              "      <td>NaN</td>\n",
              "      <td>NaN</td>\n",
              "    </tr>\n",
              "    <tr>\n",
              "      <th>4</th>\n",
              "      <td>Adelie</td>\n",
              "      <td>Torgersen</td>\n",
              "      <td>36.7</td>\n",
              "      <td>19.3</td>\n",
              "      <td>193.0</td>\n",
              "      <td>3450.0</td>\n",
              "      <td>Female</td>\n",
              "    </tr>\n",
              "    <tr>\n",
              "      <th>...</th>\n",
              "      <td>...</td>\n",
              "      <td>...</td>\n",
              "      <td>...</td>\n",
              "      <td>...</td>\n",
              "      <td>...</td>\n",
              "      <td>...</td>\n",
              "      <td>...</td>\n",
              "    </tr>\n",
              "    <tr>\n",
              "      <th>147</th>\n",
              "      <td>Adelie</td>\n",
              "      <td>Dream</td>\n",
              "      <td>36.6</td>\n",
              "      <td>18.4</td>\n",
              "      <td>184.0</td>\n",
              "      <td>3475.0</td>\n",
              "      <td>Female</td>\n",
              "    </tr>\n",
              "    <tr>\n",
              "      <th>148</th>\n",
              "      <td>Adelie</td>\n",
              "      <td>Dream</td>\n",
              "      <td>36.0</td>\n",
              "      <td>17.8</td>\n",
              "      <td>195.0</td>\n",
              "      <td>3450.0</td>\n",
              "      <td>Female</td>\n",
              "    </tr>\n",
              "    <tr>\n",
              "      <th>149</th>\n",
              "      <td>Adelie</td>\n",
              "      <td>Dream</td>\n",
              "      <td>37.8</td>\n",
              "      <td>18.1</td>\n",
              "      <td>193.0</td>\n",
              "      <td>3750.0</td>\n",
              "      <td>Male</td>\n",
              "    </tr>\n",
              "    <tr>\n",
              "      <th>150</th>\n",
              "      <td>Adelie</td>\n",
              "      <td>Dream</td>\n",
              "      <td>36.0</td>\n",
              "      <td>17.1</td>\n",
              "      <td>187.0</td>\n",
              "      <td>3700.0</td>\n",
              "      <td>Female</td>\n",
              "    </tr>\n",
              "    <tr>\n",
              "      <th>151</th>\n",
              "      <td>Adelie</td>\n",
              "      <td>Dream</td>\n",
              "      <td>41.5</td>\n",
              "      <td>18.5</td>\n",
              "      <td>201.0</td>\n",
              "      <td>4000.0</td>\n",
              "      <td>Male</td>\n",
              "    </tr>\n",
              "  </tbody>\n",
              "</table>\n",
              "<p>152 rows × 7 columns</p>\n",
              "</div>"
            ],
            "text/plain": [
              "    species     island  bill_length_mm  bill_depth_mm  flipper_length_mm  \\\n",
              "0    Adelie  Torgersen            39.1           18.7              181.0   \n",
              "1    Adelie  Torgersen            39.5           17.4              186.0   \n",
              "2    Adelie  Torgersen            40.3           18.0              195.0   \n",
              "3    Adelie  Torgersen             NaN            NaN                NaN   \n",
              "4    Adelie  Torgersen            36.7           19.3              193.0   \n",
              "..      ...        ...             ...            ...                ...   \n",
              "147  Adelie      Dream            36.6           18.4              184.0   \n",
              "148  Adelie      Dream            36.0           17.8              195.0   \n",
              "149  Adelie      Dream            37.8           18.1              193.0   \n",
              "150  Adelie      Dream            36.0           17.1              187.0   \n",
              "151  Adelie      Dream            41.5           18.5              201.0   \n",
              "\n",
              "     body_mass_g     sex  \n",
              "0         3750.0    Male  \n",
              "1         3800.0  Female  \n",
              "2         3250.0  Female  \n",
              "3            NaN     NaN  \n",
              "4         3450.0  Female  \n",
              "..           ...     ...  \n",
              "147       3475.0  Female  \n",
              "148       3450.0  Female  \n",
              "149       3750.0    Male  \n",
              "150       3700.0  Female  \n",
              "151       4000.0    Male  \n",
              "\n",
              "[152 rows x 7 columns]"
            ]
          },
          "execution_count": 15,
          "metadata": {},
          "output_type": "execute_result"
        }
      ],
      "source": [
        "# Get all rows where the species is \"Adelie\"\n",
        "penguins_df[penguins_df[\"species\"] == \"Adelie\"]"
      ]
    },
    {
      "cell_type": "code",
      "execution_count": 17,
      "metadata": {
        "id": "HdtsQSeUf-I6"
      },
      "outputs": [
        {
          "data": {
            "text/html": [
              "<div>\n",
              "<style scoped>\n",
              "    .dataframe tbody tr th:only-of-type {\n",
              "        vertical-align: middle;\n",
              "    }\n",
              "\n",
              "    .dataframe tbody tr th {\n",
              "        vertical-align: top;\n",
              "    }\n",
              "\n",
              "    .dataframe thead th {\n",
              "        text-align: right;\n",
              "    }\n",
              "</style>\n",
              "<table border=\"1\" class=\"dataframe\">\n",
              "  <thead>\n",
              "    <tr style=\"text-align: right;\">\n",
              "      <th></th>\n",
              "      <th>species</th>\n",
              "      <th>island</th>\n",
              "      <th>bill_length_mm</th>\n",
              "      <th>bill_depth_mm</th>\n",
              "      <th>flipper_length_mm</th>\n",
              "      <th>body_mass_g</th>\n",
              "      <th>sex</th>\n",
              "    </tr>\n",
              "  </thead>\n",
              "  <tbody>\n",
              "    <tr>\n",
              "      <th>0</th>\n",
              "      <td>Adelie</td>\n",
              "      <td>Torgersen</td>\n",
              "      <td>39.1</td>\n",
              "      <td>18.7</td>\n",
              "      <td>181.0</td>\n",
              "      <td>3750.0</td>\n",
              "      <td>Male</td>\n",
              "    </tr>\n",
              "    <tr>\n",
              "      <th>1</th>\n",
              "      <td>Adelie</td>\n",
              "      <td>Torgersen</td>\n",
              "      <td>39.5</td>\n",
              "      <td>17.4</td>\n",
              "      <td>186.0</td>\n",
              "      <td>3800.0</td>\n",
              "      <td>Female</td>\n",
              "    </tr>\n",
              "    <tr>\n",
              "      <th>2</th>\n",
              "      <td>Adelie</td>\n",
              "      <td>Torgersen</td>\n",
              "      <td>40.3</td>\n",
              "      <td>18.0</td>\n",
              "      <td>195.0</td>\n",
              "      <td>3250.0</td>\n",
              "      <td>Female</td>\n",
              "    </tr>\n",
              "    <tr>\n",
              "      <th>5</th>\n",
              "      <td>Adelie</td>\n",
              "      <td>Torgersen</td>\n",
              "      <td>39.3</td>\n",
              "      <td>20.6</td>\n",
              "      <td>190.0</td>\n",
              "      <td>3650.0</td>\n",
              "      <td>Male</td>\n",
              "    </tr>\n",
              "    <tr>\n",
              "      <th>7</th>\n",
              "      <td>Adelie</td>\n",
              "      <td>Torgersen</td>\n",
              "      <td>39.2</td>\n",
              "      <td>19.6</td>\n",
              "      <td>195.0</td>\n",
              "      <td>4675.0</td>\n",
              "      <td>Male</td>\n",
              "    </tr>\n",
              "    <tr>\n",
              "      <th>...</th>\n",
              "      <td>...</td>\n",
              "      <td>...</td>\n",
              "      <td>...</td>\n",
              "      <td>...</td>\n",
              "      <td>...</td>\n",
              "      <td>...</td>\n",
              "      <td>...</td>\n",
              "    </tr>\n",
              "    <tr>\n",
              "      <th>140</th>\n",
              "      <td>Adelie</td>\n",
              "      <td>Dream</td>\n",
              "      <td>40.2</td>\n",
              "      <td>17.1</td>\n",
              "      <td>193.0</td>\n",
              "      <td>3400.0</td>\n",
              "      <td>Female</td>\n",
              "    </tr>\n",
              "    <tr>\n",
              "      <th>141</th>\n",
              "      <td>Adelie</td>\n",
              "      <td>Dream</td>\n",
              "      <td>40.6</td>\n",
              "      <td>17.2</td>\n",
              "      <td>187.0</td>\n",
              "      <td>3475.0</td>\n",
              "      <td>Male</td>\n",
              "    </tr>\n",
              "    <tr>\n",
              "      <th>143</th>\n",
              "      <td>Adelie</td>\n",
              "      <td>Dream</td>\n",
              "      <td>40.7</td>\n",
              "      <td>17.0</td>\n",
              "      <td>190.0</td>\n",
              "      <td>3725.0</td>\n",
              "      <td>Male</td>\n",
              "    </tr>\n",
              "    <tr>\n",
              "      <th>146</th>\n",
              "      <td>Adelie</td>\n",
              "      <td>Dream</td>\n",
              "      <td>39.2</td>\n",
              "      <td>18.6</td>\n",
              "      <td>190.0</td>\n",
              "      <td>4250.0</td>\n",
              "      <td>Male</td>\n",
              "    </tr>\n",
              "    <tr>\n",
              "      <th>151</th>\n",
              "      <td>Adelie</td>\n",
              "      <td>Dream</td>\n",
              "      <td>41.5</td>\n",
              "      <td>18.5</td>\n",
              "      <td>201.0</td>\n",
              "      <td>4000.0</td>\n",
              "      <td>Male</td>\n",
              "    </tr>\n",
              "  </tbody>\n",
              "</table>\n",
              "<p>69 rows × 7 columns</p>\n",
              "</div>"
            ],
            "text/plain": [
              "    species     island  bill_length_mm  bill_depth_mm  flipper_length_mm  \\\n",
              "0    Adelie  Torgersen            39.1           18.7              181.0   \n",
              "1    Adelie  Torgersen            39.5           17.4              186.0   \n",
              "2    Adelie  Torgersen            40.3           18.0              195.0   \n",
              "5    Adelie  Torgersen            39.3           20.6              190.0   \n",
              "7    Adelie  Torgersen            39.2           19.6              195.0   \n",
              "..      ...        ...             ...            ...                ...   \n",
              "140  Adelie      Dream            40.2           17.1              193.0   \n",
              "141  Adelie      Dream            40.6           17.2              187.0   \n",
              "143  Adelie      Dream            40.7           17.0              190.0   \n",
              "146  Adelie      Dream            39.2           18.6              190.0   \n",
              "151  Adelie      Dream            41.5           18.5              201.0   \n",
              "\n",
              "     body_mass_g     sex  \n",
              "0         3750.0    Male  \n",
              "1         3800.0  Female  \n",
              "2         3250.0  Female  \n",
              "5         3650.0    Male  \n",
              "7         4675.0    Male  \n",
              "..           ...     ...  \n",
              "140       3400.0  Female  \n",
              "141       3475.0    Male  \n",
              "143       3725.0    Male  \n",
              "146       4250.0    Male  \n",
              "151       4000.0    Male  \n",
              "\n",
              "[69 rows x 7 columns]"
            ]
          },
          "execution_count": 17,
          "metadata": {},
          "output_type": "execute_result"
        }
      ],
      "source": [
        "# Get all rows where the species is \"Adelie\" AND the bill length is over 39mm\n",
        "penguins_df[(penguins_df[\"species\"] == \"Adelie\") & (penguins_df[\"bill_length_mm\"] > 39)]"
      ]
    },
    {
      "cell_type": "code",
      "execution_count": null,
      "metadata": {
        "id": "ROQ2iX5AQHzX"
      },
      "outputs": [],
      "source": [
        "display(penguins_df[(penguins_df[\"species\"] == \"Adelie\")])\n",
        "\n",
        "# TODO 4: Answer these questions:\n",
        "\"\"\"\n",
        "How many entries are there for each penguin species?\n",
        "How many entries are there for Adelie penguins with a body mass below 3400 grams?\n",
        "For all penguins with a bill depth above 18, how many are Female and how many are Male?\n",
        "\"\"\""
      ]
    },
    {
      "cell_type": "markdown",
      "metadata": {
        "id": "ynRr8afWa8CU"
      },
      "source": [
        "### Groupby\n",
        "\n",
        "Groupby is a command which allows you to group data based on one or more columns, then apply an aggregate function.\n",
        "\n",
        "General form:\n",
        "\n",
        "`df.groupby(\"col1\")[\"col2\"].aggregateFunction()`\n",
        "\n",
        "Examples of aggregate functions:\n",
        "\n",
        "`mean()`, `count()`, `sum()`, `min()`, `max()`\n"
      ]
    },
    {
      "cell_type": "code",
      "execution_count": null,
      "metadata": {
        "id": "V_nA0jX3bUkW"
      },
      "outputs": [],
      "source": [
        "# Group the dataset by species, then generate the average bill length for each species\n",
        "penguins_df.groupby(\"species\")[\"bill_length_mm\"].mean()"
      ]
    },
    {
      "cell_type": "code",
      "execution_count": null,
      "metadata": {
        "id": "tWih27QJb2WE"
      },
      "outputs": [],
      "source": [
        "# Grouping by multiple columns with multiple aggregations\n",
        "penguins_df.groupby([\"species\", \"sex\"])[\"bill_length_mm\"].agg([\"mean\", \"min\", \"max\"])"
      ]
    },
    {
      "cell_type": "code",
      "execution_count": null,
      "metadata": {
        "id": "WH0jZn1bcMhz"
      },
      "outputs": [],
      "source": [
        "# TODO 5: Answer the below questions:\n",
        "\"\"\"\n",
        "What is the average body mass for each penguin species?\n",
        "Which species has the highest average bill depth?\n",
        "How many entries are there for each species? Hint: count() does not require a \"col2\" filter.\n",
        "\"\"\""
      ]
    },
    {
      "cell_type": "markdown",
      "metadata": {
        "id": "h3eYwCrRRqud"
      },
      "source": [
        "### Data Visualization With Seaborn\n",
        "\n",
        "Seaborn is a library for Python data visualization.\n",
        "\n",
        "Seaborn documentation: https://seaborn.pydata.org/tutorial.html"
      ]
    },
    {
      "cell_type": "code",
      "execution_count": null,
      "metadata": {
        "id": "fgj_edp0Rrlj"
      },
      "outputs": [],
      "source": [
        "import seaborn as sns\n",
        "import matplotlib.pyplot as plt\n",
        "\n",
        "sns.set()"
      ]
    },
    {
      "cell_type": "code",
      "execution_count": null,
      "metadata": {
        "id": "RNe3V60PSQl8"
      },
      "outputs": [],
      "source": [
        "# Scatterplot of bill_length_mm vs. bill_depth_mm\n",
        "sns.scatterplot(data=penguins_df, x=\"bill_length_mm\", y=\"bill_depth_mm\")\n",
        "plt.title(\"Bill Length (mm) vs Bill Depth (mm)\")\n",
        "plt.show()"
      ]
    },
    {
      "cell_type": "code",
      "execution_count": null,
      "metadata": {
        "id": "4_8eaSgVUm-P"
      },
      "outputs": [],
      "source": [
        "# Color the points by species and style them by sex\n",
        "sns.scatterplot(data=penguins_df, x=\"bill_length_mm\", y=\"bill_depth_mm\", hue=\"species\", style=\"sex\")\n",
        "plt.title(\"Bill Length (mm) vs Bill Depth (mm)\")\n",
        "plt.show()"
      ]
    },
    {
      "cell_type": "code",
      "execution_count": null,
      "metadata": {
        "id": "-csyNiM1VVUo"
      },
      "outputs": [],
      "source": [
        "# Histogram of the distribution of flipper length\n",
        "sns.histplot(penguins_df[\"flipper_length_mm\"], bins=20)\n",
        "plt.title(\"Distribution of Flipper Length\")\n",
        "plt.xlabel(\"Flipper Length (mm)\")\n",
        "plt.ylabel(\"Count\")\n",
        "plt.show()"
      ]
    },
    {
      "cell_type": "markdown",
      "metadata": {
        "id": "TqwCDOzLVwWR"
      },
      "source": [
        "### More Visualizations\n",
        "\n",
        "Go to this link below and scroll down to Plotting functions. Try out some graphs! What conclusions can you draw from them?\n",
        "\n",
        "https://seaborn.pydata.org/tutorial.html\n",
        "\n",
        "### Suggestions:\n",
        "\n",
        "Scatterplot - Flipper Length vs. Body Mass (colored by species): https://seaborn.pydata.org/tutorial/relational.html#relating-variables-with-scatter-plots\n",
        "\n",
        "Box Plot - Distribution of Body Mass by Species: https://seaborn.pydata.org/generated/seaborn.boxplot.html#seaborn-boxplot"
      ]
    },
    {
      "cell_type": "code",
      "execution_count": null,
      "metadata": {
        "id": "T2pdqaMhV6mb"
      },
      "outputs": [],
      "source": [
        "# TODO 6: Generate at least three more plots! What observations can you make?"
      ]
    }
  ],
  "metadata": {
    "colab": {
      "provenance": []
    },
    "kernelspec": {
      "display_name": "base",
      "language": "python",
      "name": "python3"
    },
    "language_info": {
      "codemirror_mode": {
        "name": "ipython",
        "version": 3
      },
      "file_extension": ".py",
      "mimetype": "text/x-python",
      "name": "python",
      "nbconvert_exporter": "python",
      "pygments_lexer": "ipython3",
      "version": "3.12.4"
    }
  },
  "nbformat": 4,
  "nbformat_minor": 0
}
